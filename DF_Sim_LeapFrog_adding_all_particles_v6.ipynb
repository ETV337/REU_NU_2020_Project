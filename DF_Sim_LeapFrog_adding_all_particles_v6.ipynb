{
 "cells": [
  {
   "cell_type": "code",
   "execution_count": 1,
   "metadata": {},
   "outputs": [],
   "source": [
    "import numpy as np\n",
    "import matplotlib as mpl\n",
    "import matplotlib.pyplot as plt\n",
    "import astropy.units\n",
    "from astropy import constants as const\n",
    "import collections, numpy\n",
    "import matplotlib.lines as mlines\n",
    "import matplotlib.cm as cm\n",
    "from matplotlib.lines import Line2D\n",
    "from matplotlib.ticker import (MultipleLocator, FormatStrFormatter,\n",
    "                             AutoMinorLocator)\n",
    "from scipy.stats import linregress\n",
    "import sys\n",
    "import math as ma\n",
    "from numpy import inf\n",
    "import numpy as np\n",
    "import time\n",
    "from matplotlib.pyplot import figure as fig\n",
    "from scipy import stats\n",
    "from scipy.stats import norm\n",
    "\n"
   ]
  },
  {
   "cell_type": "code",
   "execution_count": null,
   "metadata": {},
   "outputs": [],
   "source": [
    "#Defining Variables and constants\n",
    "\n",
    "Big_M = (1e8 * const.M_sun.value) #kg\n",
    "Obj_Radius = 0.1 * const.au.value # m\n",
    "Small_M=\n",
    "vi = 2e9 #m/s\n",
    "xi = 4*const.au.value\n",
    "ymax = const.au.value  #m\n",
    "#ypos=np.linspace(0,1,int(N)+1)[1:]*(ymax)\n",
    "\n",
    "\n",
    "    \n",
    "dt = 10 # second time step\n",
    "N = 50 #Number of steps \n",
    "\n",
    "\n",
    "colors = mpl.cm.get_cmap()(np.linspace(0.0, 1.0, int(N))) # setting colors for data pts\n",
    "\n",
    "\n",
    "escape_vel= np.sqrt(2*const.G.value * Big_M/xi)\n",
    "print(f\"escape velocity = {escape_vel/1e5:.4e}\")\n",
    "escape_time = xi/(escape_vel * vi)\n",
    "#print(f\"escape time = {time:.4e}\")\n",
    "dt,ymax"
   ]
  }
 ],
 "metadata": {
  "kernelspec": {
   "display_name": "Python 3",
   "language": "python",
   "name": "python3"
  },
  "language_info": {
   "codemirror_mode": {
    "name": "ipython",
    "version": 3
   },
   "file_extension": ".py",
   "mimetype": "text/x-python",
   "name": "python",
   "nbconvert_exporter": "python",
   "pygments_lexer": "ipython3",
   "version": "3.7.7"
  }
 },
 "nbformat": 4,
 "nbformat_minor": 4
}
