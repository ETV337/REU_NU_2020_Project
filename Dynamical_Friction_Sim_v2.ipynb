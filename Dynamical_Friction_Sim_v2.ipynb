{
 "cells": [
  {
   "cell_type": "code",
   "execution_count": 1,
   "metadata": {},
   "outputs": [],
   "source": [
    "import numpy as np\n",
    "import matplotlib as mpl\n",
    "import matplotlib.pyplot as plt\n",
    "import astropy.units\n",
    "from astropy import constants as const"
   ]
  },
  {
   "cell_type": "code",
   "execution_count": 90,
   "metadata": {},
   "outputs": [
    {
     "data": {
      "text/plain": [
       "499999"
      ]
     },
     "execution_count": 90,
     "metadata": {},
     "output_type": "execute_result"
    }
   ],
   "source": [
    "#Defining Variables and constants\n",
    "\n",
    "Big_M = (1e8 * const.M_sun.cgs) #grams\n",
    "Obj_Radius = 0.1 * const.au.cgs # centimeters\n",
    "Velocity = 2e11 #cm/s\n",
    "x_dist = 4 * const.au.cgs #centimeters\n",
    "ymax = const.au.cgs  #centimeters\n",
    "\n",
    "\n",
    "\n",
    "step_max=10\n",
    "dt = 1e5 #seconds\n",
    "n=20\n",
    "\n",
    "escape_vel= np.sqrt(2*const.G.cgs*Big_M/x_dist)\n",
    "STEP_MAX = int(step_max/(2e-5))\n",
    "STEP_MAX"
   ]
  },
  {
   "cell_type": "code",
   "execution_count": 100,
   "metadata": {},
   "outputs": [
    {
     "data": {
      "text/latex": [
       "$1.4959787 \\times 10^{13} \\; \\mathrm{cm}$"
      ],
      "text/plain": [
       "<Quantity 1.49597871e+13 cm>"
      ]
     },
     "execution_count": 100,
     "metadata": {},
     "output_type": "execute_result"
    }
   ],
   "source": [
    "const.au.cgs"
   ]
  },
  {
   "cell_type": "code",
   "execution_count": 91,
   "metadata": {},
   "outputs": [
    {
     "data": {
      "text/latex": [
       "$2.1060958 \\times 10^{10} \\; \\mathrm{\\frac{cm}{s}}$"
      ],
      "text/plain": [
       "<Quantity 2.10609576e+10 cm / s>"
      ]
     },
     "execution_count": 91,
     "metadata": {},
     "output_type": "execute_result"
    }
   ],
   "source": [
    "escape_vel"
   ]
  },
  {
   "cell_type": "code",
   "execution_count": 101,
   "metadata": {},
   "outputs": [],
   "source": [
    "yposition=np.linspace(0,1,int(n)+1)[1:]*(1.4858787e13)\n",
    "yvelocity=np.zeros_like(yposition)"
   ]
  },
  {
   "cell_type": "code",
   "execution_count": 102,
   "metadata": {},
   "outputs": [
    {
     "data": {
      "text/plain": [
       "array([2.00007429e+16, 2.00014859e+16, 2.00022288e+16, 2.00029718e+16,\n",
       "       2.00037147e+16, 2.00044576e+16, 2.00052006e+16, 2.00059435e+16,\n",
       "       2.00066865e+16, 2.00074294e+16, 2.00081723e+16, 2.00089153e+16,\n",
       "       2.00096582e+16, 2.00104012e+16, 2.00111441e+16, 2.00118870e+16,\n",
       "       2.00126300e+16, 2.00133729e+16, 2.00141158e+16, 2.00148588e+16])"
      ]
     },
     "execution_count": 102,
     "metadata": {},
     "output_type": "execute_result"
    }
   ],
   "source": [
    "yposition+Velocity*(dt)"
   ]
  },
  {
   "cell_type": "code",
   "execution_count": 93,
   "metadata": {},
   "outputs": [],
   "source": [
    "xposition=np.ones_like(yposition)*x_dist\n",
    "xvelocity= -Velocity*np.ones_like(yposition)\n",
    "accel=(-const.G.cgs*Big_M)/(Obj_Radius**2)"
   ]
  },
  {
   "cell_type": "code",
   "execution_count": 94,
   "metadata": {},
   "outputs": [
    {
     "data": {
      "text/plain": [
       "20"
      ]
     },
     "execution_count": 94,
     "metadata": {},
     "output_type": "execute_result"
    }
   ],
   "source": [
    "act=np.ones_like(yposition,dtype=bool)\n",
    "len(act)"
   ]
  },
  {
   "cell_type": "code",
   "execution_count": 95,
   "metadata": {},
   "outputs": [
    {
     "data": {
      "text/latex": [
       "$-5.9300835 \\times 10^{9} \\; \\mathrm{\\frac{cm}{s^{2}}}$"
      ],
      "text/plain": [
       "<Quantity -5.93008352e+09 cm / s2>"
      ]
     },
     "execution_count": 95,
     "metadata": {},
     "output_type": "execute_result"
    }
   ],
   "source": [
    "accel"
   ]
  },
  {
   "cell_type": "code",
   "execution_count": 96,
   "metadata": {},
   "outputs": [
    {
     "data": {
      "text/plain": [
       "[<Quantity [-3.54851147e+23, -3.54851147e+23, -3.54851147e+23,\n",
       "            -3.54851147e+23, -3.54851147e+23, -3.54851147e+23,\n",
       "            -3.54851147e+23, -3.54851147e+23, -3.54851147e+23,\n",
       "            -3.54851147e+23, -3.54851147e+23, -3.54851147e+23,\n",
       "            -3.54851147e+23, -3.54851147e+23, -3.54851147e+23,\n",
       "            -3.54851147e+23, -3.54851147e+23, -3.54851147e+23,\n",
       "            -3.54851147e+23, -3.54851147e+23] cm3 / s2>,\n",
       " <Quantity [-4.43563934e+21, -8.87127867e+21, -1.33069180e+22,\n",
       "            -1.77425573e+22, -2.21781967e+22, -2.66138360e+22,\n",
       "            -3.10494754e+22, -3.54851147e+22, -3.99207540e+22,\n",
       "            -4.43563934e+22, -4.87920327e+22, -5.32276720e+22,\n",
       "            -5.76633114e+22, -6.20989507e+22, -6.65345901e+22,\n",
       "            -7.09702294e+22, -7.54058687e+22, -7.98415081e+22,\n",
       "            -8.42771474e+22, -8.87127867e+22] cm2 / s2>]"
      ]
     },
     "execution_count": 96,
     "metadata": {},
     "output_type": "execute_result"
    }
   ],
   "source": [
    "acc=[xposition[act]*accel,yposition[act]*accel]\n",
    "acc"
   ]
  },
  {
   "cell_type": "code",
   "execution_count": 80,
   "metadata": {},
   "outputs": [
    {
     "data": {
      "text/plain": [
       "(<Quantity [4., 4., 4., 4., 4., 4., 4., 4., 4., 4., 4., 4., 4., 4., 4., 4.,\n",
       "            4., 4., 4., 4.] cm>,\n",
       " <Quantity [0.05, 0.1 , 0.15, 0.2 , 0.25, 0.3 , 0.35, 0.4 , 0.45, 0.5 ,\n",
       "            0.55, 0.6 , 0.65, 0.7 , 0.75, 0.8 , 0.85, 0.9 , 0.95, 1.  ]>)"
      ]
     },
     "execution_count": 80,
     "metadata": {},
     "output_type": "execute_result"
    }
   ],
   "source": [
    "xpos/const.au.cgs, ypos/const.au.cgs"
   ]
  },
  {
   "cell_type": "code",
   "execution_count": 32,
   "metadata": {},
   "outputs": [],
   "source": [
    "colors=mpl.cm.get_cmap()(np.linspace(0,1,int(num)))"
   ]
  },
  {
   "cell_type": "code",
   "execution_count": 103,
   "metadata": {},
   "outputs": [
    {
     "data": {
      "text/latex": [
       "$6.67408 \\times 10^{-8} \\; \\mathrm{\\frac{cm^{3}}{g\\,s^{2}}}$"
      ],
      "text/plain": [
       "<Quantity 6.67408e-08 cm3 / (g s2)>"
      ]
     },
     "execution_count": 103,
     "metadata": {},
     "output_type": "execute_result"
    }
   ],
   "source": [
    "const.G.cgs"
   ]
  },
  {
   "cell_type": "code",
   "execution_count": 104,
   "metadata": {},
   "outputs": [],
   "source": [
    "xvel=Velocity - (6.67408e-8)*dt\n",
    "yvel=yposition+(2e11*dt)"
   ]
  },
  {
   "cell_type": "code",
   "execution_count": 106,
   "metadata": {},
   "outputs": [
    {
     "data": {
      "text/plain": [
       "<matplotlib.collections.PathCollection at 0x1206837d0>"
      ]
     },
     "execution_count": 106,
     "metadata": {},
     "output_type": "execute_result"
    },
    {
     "data": {
      "image/png": "[encoded data removed]",
      "text/plain": [
       "<Figure size 648x648 with 1 Axes>"
      ]
     },
     "metadata": {
      "needs_background": "light"
     },
     "output_type": "display_data"
    }
   ],
   "source": [
    "fig, ax = plt.subplots(figsize=[9,9])\n",
    "\n",
    "ax.scatter(xpos/const.au.cgs, ypos/const.au.cgs, color=colors, alpha=0.5)\n"
   ]
  },
  {
   "cell_type": "code",
   "execution_count": 133,
   "metadata": {},
   "outputs": [],
   "source": [
    "X_pos=5.9839148e13"
   ]
  },
  {
   "cell_type": "code",
   "execution_count": 139,
   "metadata": {},
   "outputs": [],
   "source": [
    "X_Pos=X_pos + Velocity*dt\n",
    "X_Pos1=X_Pos + Velocity*dt\n",
    "X_Pos2=X_Pos1 +Velocity*dt\n",
    "X_Pos3=X_Pos2+Velocity*dt\n",
    "X_Pos4=X_Pos3+Velocity*dt\n",
    "X_Pos5=X_Pos4+Velocity*dt\n",
    "X_Pos6=X_Pos5+Velocity*dt\n",
    "X_Pos7=X_Pos6+Velocity*dt\n",
    "X_Pos8=X_Pos7+Velocity*dt\n",
    "X_Pos9=X_Pos8+Velocity*dt\n",
    "X_Pos10=X_Pos9+Velocity*dt\n",
    "X_Pos11=X_Pos10+Velocity*dt\n",
    "X_Pos12=X_Pos11+Velocity*dt\n",
    "X_Pos13=X_Pos12+Velocity*dt\n",
    "X_Pos14=X_Pos13+Velocity*dt\n",
    "X_Pos15=X_Pos14+Velocity*dt\n",
    "X_Pos16=X_Pos15+Velocity*dt\n",
    "X_Pos17=X_Pos16+Velocity*dt\n",
    "X_Pos18=X_Pos17+Velocity*dt\n",
    "X_Pos19=X_Pos18+Velocity*dt\n",
    "XPOS=[X_Pos,X_Pos1,X_Pos2,X_Pos3,X_Pos4,X_Pos5,X_Pos6,X_Pos7,X_Pos8,X_Pos9,X_Pos10,X_Pos11,X_Pos12,X_Pos13,X_Pos14,X_Pos15,X_Pos16,X_Pos17,X_Pos18,X_Pos19]"
   ]
  },
  {
   "cell_type": "code",
   "execution_count": 142,
   "metadata": {
    "scrolled": true
   },
   "outputs": [
    {
     "data": {
      "text/plain": [
       "20"
      ]
     },
     "execution_count": 142,
     "metadata": {},
     "output_type": "execute_result"
    }
   ],
   "source": [
    "len(XPOS)"
   ]
  },
  {
   "cell_type": "code",
   "execution_count": 147,
   "metadata": {},
   "outputs": [
    {
     "data": {
      "text/plain": [
       "array([2.00007429e+16, 2.00014859e+16, 2.00022288e+16, 2.00029718e+16,\n",
       "       2.00037147e+16, 2.00044576e+16, 2.00052006e+16, 2.00059435e+16,\n",
       "       2.00066865e+16, 2.00074294e+16, 2.00081723e+16, 2.00089153e+16,\n",
       "       2.00096582e+16, 2.00104012e+16, 2.00111441e+16, 2.00118870e+16,\n",
       "       2.00126300e+16, 2.00133729e+16, 2.00141158e+16, 2.00148588e+16])"
      ]
     },
     "execution_count": 147,
     "metadata": {},
     "output_type": "execute_result"
    }
   ],
   "source": [
    "(yvel)\n"
   ]
  },
  {
   "cell_type": "code",
   "execution_count": 146,
   "metadata": {},
   "outputs": [
    {
     "data": {
      "text/plain": [
       "<matplotlib.collections.PathCollection at 0x120e456d0>"
      ]
     },
     "execution_count": 146,
     "metadata": {},
     "output_type": "execute_result"
    },
    {
     "data": {
      "image/png": "[encoded data removed]",
      "text/plain": [
       "<Figure size 648x648 with 1 Axes>"
      ]
     },
     "metadata": {
      "needs_background": "light"
     },
     "output_type": "display_data"
    }
   ],
   "source": [
    "fig, ax = plt.subplots(figsize=[9,9])\n",
    "ax.scatter(XPOS,yvel,color=colors)\n",
    "ax.scatter(xpos/const.au.cgs, ypos/const.au.cgs, color=colors, alpha=0.5)\n"
   ]
  },
  {
   "cell_type": "code",
   "execution_count": null,
   "metadata": {},
   "outputs": [],
   "source": [
    "X_Position=[]\n",
    "for i in range(0,20):\n",
    "    x_pos[i+1]=X_pos[i] + Velocity*dt\n",
    "    XP=x_pos[i]\n",
    "    \n",
    "    "
   ]
  },
  {
   "cell_type": "code",
   "execution_count": 116,
   "metadata": {},
   "outputs": [
    {
     "ename": "ValueError",
     "evalue": "x and y must be the same size",
     "output_type": "error",
     "traceback": [
      "\u001b[0;31m---------------------------------------------------------------------------\u001b[0m",
      "\u001b[0;31mValueError\u001b[0m                                Traceback (most recent call last)",
      "\u001b[0;32m<ipython-input-116-fc008173fb21>\u001b[0m in \u001b[0;36m<module>\u001b[0;34m\u001b[0m\n\u001b[1;32m      1\u001b[0m \u001b[0;32mfor\u001b[0m \u001b[0mi\u001b[0m \u001b[0;32min\u001b[0m \u001b[0mrange\u001b[0m\u001b[0;34m(\u001b[0m\u001b[0mlen\u001b[0m\u001b[0;34m(\u001b[0m\u001b[0myvel\u001b[0m\u001b[0;34m)\u001b[0m\u001b[0;34m)\u001b[0m\u001b[0;34m:\u001b[0m\u001b[0;34m\u001b[0m\u001b[0;34m\u001b[0m\u001b[0m\n\u001b[0;32m----> 2\u001b[0;31m     \u001b[0max\u001b[0m\u001b[0;34m.\u001b[0m\u001b[0mscatter\u001b[0m\u001b[0;34m(\u001b[0m\u001b[0mxpos\u001b[0m\u001b[0;34m[\u001b[0m\u001b[0mi\u001b[0m\u001b[0;34m]\u001b[0m\u001b[0;34m*\u001b[0m\u001b[0mnp\u001b[0m\u001b[0;34m.\u001b[0m\u001b[0mones_like\u001b[0m\u001b[0;34m(\u001b[0m\u001b[0myvel\u001b[0m\u001b[0;34m)\u001b[0m\u001b[0;34m,\u001b[0m\u001b[0myvel\u001b[0m\u001b[0;34m[\u001b[0m\u001b[0mi\u001b[0m\u001b[0;34m]\u001b[0m\u001b[0;34m,\u001b[0m\u001b[0mcolor\u001b[0m\u001b[0;34m=\u001b[0m\u001b[0mcolors\u001b[0m\u001b[0;34m)\u001b[0m\u001b[0;34m\u001b[0m\u001b[0;34m\u001b[0m\u001b[0m\n\u001b[0m",
      "\u001b[0;32m/anaconda3/lib/python3.7/site-packages/matplotlib/__init__.py\u001b[0m in \u001b[0;36minner\u001b[0;34m(ax, data, *args, **kwargs)\u001b[0m\n\u001b[1;32m   1808\u001b[0m                         \u001b[0;34m\"the Matplotlib list!)\"\u001b[0m \u001b[0;34m%\u001b[0m \u001b[0;34m(\u001b[0m\u001b[0mlabel_namer\u001b[0m\u001b[0;34m,\u001b[0m \u001b[0mfunc\u001b[0m\u001b[0;34m.\u001b[0m\u001b[0m__name__\u001b[0m\u001b[0;34m)\u001b[0m\u001b[0;34m,\u001b[0m\u001b[0;34m\u001b[0m\u001b[0;34m\u001b[0m\u001b[0m\n\u001b[1;32m   1809\u001b[0m                         RuntimeWarning, stacklevel=2)\n\u001b[0;32m-> 1810\u001b[0;31m             \u001b[0;32mreturn\u001b[0m \u001b[0mfunc\u001b[0m\u001b[0;34m(\u001b[0m\u001b[0max\u001b[0m\u001b[0;34m,\u001b[0m \u001b[0;34m*\u001b[0m\u001b[0margs\u001b[0m\u001b[0;34m,\u001b[0m \u001b[0;34m**\u001b[0m\u001b[0mkwargs\u001b[0m\u001b[0;34m)\u001b[0m\u001b[0;34m\u001b[0m\u001b[0;34m\u001b[0m\u001b[0m\n\u001b[0m\u001b[1;32m   1811\u001b[0m \u001b[0;34m\u001b[0m\u001b[0m\n\u001b[1;32m   1812\u001b[0m         inner.__doc__ = _add_data_doc(inner.__doc__,\n",
      "\u001b[0;32m/anaconda3/lib/python3.7/site-packages/matplotlib/axes/_axes.py\u001b[0m in \u001b[0;36mscatter\u001b[0;34m(self, x, y, s, c, marker, cmap, norm, vmin, vmax, alpha, linewidths, verts, edgecolors, **kwargs)\u001b[0m\n\u001b[1;32m   4180\u001b[0m         \u001b[0my\u001b[0m \u001b[0;34m=\u001b[0m \u001b[0mnp\u001b[0m\u001b[0;34m.\u001b[0m\u001b[0mma\u001b[0m\u001b[0;34m.\u001b[0m\u001b[0mravel\u001b[0m\u001b[0;34m(\u001b[0m\u001b[0my\u001b[0m\u001b[0;34m)\u001b[0m\u001b[0;34m\u001b[0m\u001b[0;34m\u001b[0m\u001b[0m\n\u001b[1;32m   4181\u001b[0m         \u001b[0;32mif\u001b[0m \u001b[0mx\u001b[0m\u001b[0;34m.\u001b[0m\u001b[0msize\u001b[0m \u001b[0;34m!=\u001b[0m \u001b[0my\u001b[0m\u001b[0;34m.\u001b[0m\u001b[0msize\u001b[0m\u001b[0;34m:\u001b[0m\u001b[0;34m\u001b[0m\u001b[0;34m\u001b[0m\u001b[0m\n\u001b[0;32m-> 4182\u001b[0;31m             \u001b[0;32mraise\u001b[0m \u001b[0mValueError\u001b[0m\u001b[0;34m(\u001b[0m\u001b[0;34m\"x and y must be the same size\"\u001b[0m\u001b[0;34m)\u001b[0m\u001b[0;34m\u001b[0m\u001b[0;34m\u001b[0m\u001b[0m\n\u001b[0m\u001b[1;32m   4183\u001b[0m \u001b[0;34m\u001b[0m\u001b[0m\n\u001b[1;32m   4184\u001b[0m         \u001b[0;32mif\u001b[0m \u001b[0ms\u001b[0m \u001b[0;32mis\u001b[0m \u001b[0;32mNone\u001b[0m\u001b[0;34m:\u001b[0m\u001b[0;34m\u001b[0m\u001b[0;34m\u001b[0m\u001b[0m\n",
      "\u001b[0;31mValueError\u001b[0m: x and y must be the same size"
     ]
    }
   ],
   "source": [
    "for i in range(len(yvel)):\n",
    "    ax.scatter(xpos[i],yvel[i],color=colors)"
   ]
  },
  {
   "cell_type": "code",
   "execution_count": null,
   "metadata": {},
   "outputs": [],
   "source": []
  }
 ],
 "metadata": {
  "kernelspec": {
   "display_name": "Python 3",
   "language": "python",
   "name": "python3"
  },
  "language_info": {
   "codemirror_mode": {
    "name": "ipython",
    "version": 3
   },
   "file_extension": ".py",
   "mimetype": "text/x-python",
   "name": "python",
   "nbconvert_exporter": "python",
   "pygments_lexer": "ipython3",
   "version": "3.7.7"
  }
 },
 "nbformat": 4,
 "nbformat_minor": 4
}
