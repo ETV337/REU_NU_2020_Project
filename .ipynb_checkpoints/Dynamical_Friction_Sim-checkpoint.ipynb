{
 "cells": [
  {
   "cell_type": "code",
   "execution_count": 1,
   "metadata": {},
   "outputs": [],
   "source": [
    "import numpy as np\n",
    "import matplotlib as mpl\n",
    "import matplotlib.pyplot as plt\n",
    "import astropy.units\n",
    "from astropy import constants as const\n",
    "import collections, numpy"
   ]
  },
  {
   "cell_type": "code",
   "execution_count": 7,
   "metadata": {},
   "outputs": [
    {
     "name": "stdout",
     "output_type": "stream",
     "text": [
      "escape velocity = 2.1061e+03\n"
     ]
    },
    {
     "data": {
      "text/plain": [
       "(10.0, 149597870700.0)"
      ]
     },
     "execution_count": 7,
     "metadata": {},
     "output_type": "execute_result"
    }
   ],
   "source": [
    "#Defining Variables and constants\n",
    "\n",
    "Big_M = (1e8 * const.M_sun.value) #kg\n",
    "Obj_Radius = 0.1 * const.au.value # m\n",
    "Velocity = 2e9 #m/s\n",
    "x_dist = 4 * const.au.value #m\n",
    "ymax = const.au.value  #m\n",
    "\n",
    "Time_step = 1e1 #seconds\n",
    "N = 20\n",
    "#Max_step = 10.0\n",
    "\n",
    "\n",
    "colors = mpl.cm.get_cmap()(np.linspace(0.0, 1.0, int(N))) # setting colors for data pts\n",
    "\n",
    "\n",
    "escape_vel= np.sqrt(2*const.G.value * Big_M/x_dist)\n",
    "print(f\"escape velocity = {escape_vel/1e5:.4e}\")\n",
    "escape_time = x_dist/(escape_vel * Velocity)\n",
    "#print(f\"escape time = {time:.4e}\")\n",
    "dt = Time_step\n",
    "dt,ymax"
   ]
  },
  {
   "cell_type": "code",
   "execution_count": 15,
   "metadata": {},
   "outputs": [],
   "source": [
    "\n",
    "#setting y values for each small mass object ???\n",
    "yvals = np.linspace(0.0, 1.0, int(N)+1)[1:] * ymax\n",
    "\n",
    "#setting the same value of x for each small mass to start at in cm\n",
    "xvals = np.ones_like(yvals) * x_dist\n",
    "\n",
    "#Setting the velocity for each particle in the x direction. \n",
    "# Does this mean each particle starts out at the same velocity???\n",
    "xvel = Velocity * np.ones_like(yvals)\n",
    "\n",
    "#velocity in y direction. Since this is a 1-D problem I am assuming \n",
    "#that's why this velocity should be zero ???\n",
    "yvel = np.zeros_like(yvals)\n"
   ]
  },
  {
   "cell_type": "code",
   "execution_count": 18,
   "metadata": {},
   "outputs": [
    {
     "data": {
      "text/plain": [
       "<matplotlib.collections.PathCollection at 0x11fafe590>"
      ]
     },
     "execution_count": 18,
     "metadata": {},
     "output_type": "execute_result"
    },
    {
     "data": {
      "image/png": "[encoded data removed]",
      "text/plain": [
       "<Figure size 648x648 with 1 Axes>"
      ]
     },
     "metadata": {
      "needs_background": "light"
     },
     "output_type": "display_data"
    }
   ],
   "source": [
    "fig, ax = plt.subplots(figsize=[9,9])\n",
    "\n",
    "\n",
    "ax.scatter((xvals/(const.au.value)), yvals/(const.au.value), color=colors, marker='o', alpha=0.5)"
   ]
  },
  {
   "cell_type": "code",
   "execution_count": 20,
   "metadata": {},
   "outputs": [
    {
     "data": {
      "text/plain": [
       "20"
      ]
     },
     "execution_count": 20,
     "metadata": {},
     "output_type": "execute_result"
    }
   ],
   "source": [
    "len(np.linspace(0,1,int(N+1))[1:]*ymax)"
   ]
  },
  {
   "cell_type": "code",
   "execution_count": 21,
   "metadata": {},
   "outputs": [
    {
     "data": {
      "text/plain": [
       "-1.3271244e+28"
      ]
     },
     "execution_count": 21,
     "metadata": {},
     "output_type": "execute_result"
    }
   ],
   "source": [
    "-const.G.value*Big_M"
   ]
  },
  {
   "cell_type": "code",
   "execution_count": 8,
   "metadata": {},
   "outputs": [],
   "source": [
    "     \n",
    "dt = 1e1    # second time step\n",
    "N = 20     # \n",
    "vi = 2e9    # initial velocity\n",
    "ypos=np.linspace(0,1,int(N)+1)[1:]*(ymax)\n",
    "xi = 4*const.au.value"
   ]
  },
  {
   "cell_type": "code",
   "execution_count": 48,
   "metadata": {},
   "outputs": [
    {
     "data": {
      "text/plain": [
       "598391482800.0"
      ]
     },
     "execution_count": 48,
     "metadata": {},
     "output_type": "execute_result"
    }
   ],
   "source": [
    "xi"
   ]
  },
  {
   "cell_type": "code",
   "execution_count": 9,
   "metadata": {},
   "outputs": [
    {
     "data": {
      "text/plain": [
       "20"
      ]
     },
     "execution_count": 9,
     "metadata": {},
     "output_type": "execute_result"
    }
   ],
   "source": [
    "len(ypos)"
   ]
  },
  {
   "cell_type": "code",
   "execution_count": 10,
   "metadata": {},
   "outputs": [],
   "source": [
    "t = 0\n",
    "x = xi\n",
    "vx = vi\n",
    "vy=0"
   ]
  },
  {
   "cell_type": "code",
   "execution_count": 11,
   "metadata": {},
   "outputs": [
    {
     "data": {
      "text/plain": [
       "numpy.float64"
      ]
     },
     "execution_count": 11,
     "metadata": {},
     "output_type": "execute_result"
    }
   ],
   "source": [
    "type(x)"
   ]
  },
  {
   "cell_type": "code",
   "execution_count": 12,
   "metadata": {},
   "outputs": [],
   "source": [
    "time = np.array([0])      \n",
    "xpos = np.array([xi])    \n",
    "velocity = np.array([vi])"
   ]
  },
  {
   "cell_type": "code",
   "execution_count": 107,
   "metadata": {
    "scrolled": true
   },
   "outputs": [],
   "source": [
    "t = 0\n",
    "x = xi\n",
    "y=ypos[-1]\n",
    "vx = -vi\n",
    "vy = 0\n",
    "\n",
    "time = np.array([0])      \n",
    "xpos = np.array([xi])\n",
    "ypos = np.array([y])\n",
    "yvel = np.array([0])\n",
    "xvel = np.array([vi])\n",
    "\n",
    "for i in range(N):\n",
    "    # here are the calculations:\n",
    "    t = t + dt\n",
    "    A_x = (-const.G.value*Big_M/((x**2+y**2)**(3/2)))*x\n",
    "    A_y = (-const.G.value*Big_M/((x**2+y**2)**(3/2)))*y\n",
    "    x = x + vx * dt\n",
    "    y = y + vy*dt #\n",
    "    vx = vx + A_x * dt\n",
    "    vy = vy + A_y * dt\n",
    "    # And here we put those calculations in the arrays to plot later:\n",
    "    time = np.append(time,t)\n",
    "    xpos = np.append(xpos,x)\n",
    "    ypos = np.append(ypos,y)\n",
    "    xvel = np.append(xvel,vx)\n",
    "    yvel = np.append(yvel,vy)\n",
    "#    break\n",
    "\n",
    "#print(xpos, ypos)"
   ]
  },
  {
   "cell_type": "code",
   "execution_count": 16,
   "metadata": {},
   "outputs": [
    {
     "data": {
      "text/plain": [
       "<matplotlib.collections.PathCollection at 0x11a92b250>"
      ]
     },
     "execution_count": 16,
     "metadata": {},
     "output_type": "execute_result"
    },
    {
     "data": {
      "image/png": "[encoded data removed]",
      "text/plain": [
       "<Figure size 432x288 with 1 Axes>"
      ]
     },
     "metadata": {
      "needs_background": "light"
     },
     "output_type": "display_data"
    }
   ],
   "source": [
    "plt.scatter(xpos, ypos)"
   ]
  },
  {
   "cell_type": "code",
   "execution_count": 89,
   "metadata": {
    "scrolled": true
   },
   "outputs": [
    {
     "name": "stdout",
     "output_type": "stream",
     "text": [
      "          x                y\n",
      "i= 0\n",
      "j= 0\n",
      "j= 1\n",
      "j= 2\n",
      "j= 3\n",
      "j= 4\n",
      "j= 5\n",
      "j= 6\n",
      "j= 7\n",
      "j= 8\n",
      "j= 9\n",
      "[5.78387780e+11 5.78387790e+11 5.78387808e+11 5.78387831e+11\n",
      " 5.78387862e+11 5.78387898e+11 5.78387940e+11 5.78387988e+11\n",
      " 5.78388041e+11 5.78388099e+11]\n",
      "i= 1\n",
      "j= 0\n",
      "j= 1\n",
      "j= 2\n",
      "j= 3\n",
      "j= 4\n",
      "j= 5\n",
      "j= 6\n",
      "j= 7\n",
      "j= 8\n",
      "j= 9\n",
      "[5.58380114e+11 5.58380147e+11 5.58380201e+11 5.58380276e+11\n",
      " 5.58380371e+11 5.58380486e+11 5.58380618e+11 5.58380768e+11\n",
      " 5.58380934e+11 5.58381115e+11]\n",
      "i= 2\n",
      "j= 0\n",
      "j= 1\n",
      "j= 2\n",
      "j= 3\n",
      "j= 4\n",
      "j= 5\n",
      "j= 6\n",
      "j= 7\n",
      "j= 8\n",
      "j= 9\n",
      "[5.38368196e+11 5.38368265e+11 5.38368378e+11 5.38368536e+11\n",
      " 5.38368736e+11 5.38368976e+11 5.38369255e+11 5.38369569e+11\n",
      " 5.38369917e+11 5.38370294e+11]\n",
      "i= 3\n",
      "j= 0\n",
      "j= 1\n",
      "j= 2\n",
      "j= 3\n",
      "j= 4\n",
      "j= 5\n",
      "j= 6\n",
      "j= 7\n",
      "j= 8\n",
      "j= 9\n",
      "[5.18351705e+11 5.18351825e+11 5.18352025e+11 5.18352301e+11\n",
      " 5.18352651e+11 5.18353073e+11 5.18353561e+11 5.18354111e+11\n",
      " 5.18354719e+11 5.18355379e+11]\n",
      "i= 4\n",
      "j= 0\n",
      "j= 1\n",
      "j= 2\n",
      "j= 3\n",
      "j= 4\n",
      "j= 5\n",
      "j= 6\n",
      "j= 7\n",
      "j= 8\n",
      "j= 9\n",
      "[4.98330280e+11 4.98330471e+11 4.98330786e+11 4.98331224e+11\n",
      " 4.98331778e+11 4.98332444e+11 4.98333215e+11 4.98334084e+11\n",
      " 4.98335042e+11 4.98336083e+11]\n",
      "i= 5\n",
      "j= 0\n",
      "j= 1\n",
      "j= 2\n",
      "j= 3\n",
      "j= 4\n",
      "j= 5\n",
      "j= 6\n",
      "j= 7\n",
      "j= 8\n",
      "j= 9\n",
      "[4.78303519e+11 4.78303801e+11 4.78304269e+11 4.78304916e+11\n",
      " 4.78305736e+11 4.78306721e+11 4.78307860e+11 4.78309143e+11\n",
      " 4.78310558e+11 4.78312091e+11]\n",
      "i= 6\n",
      "j= 0\n",
      "j= 1\n",
      "j= 2\n",
      "j= 3\n",
      "j= 4\n",
      "j= 5\n",
      "j= 6\n",
      "j= 7\n",
      "j= 8\n",
      "j= 9\n",
      "[4.58270965e+11 4.58271364e+11 4.58272025e+11 4.58272940e+11\n",
      " 4.58274099e+11 4.58275490e+11 4.58277098e+11 4.58278907e+11\n",
      " 4.58280899e+11 4.58283056e+11]\n",
      "i= 7\n",
      "j= 0\n",
      "j= 1\n",
      "j= 2\n",
      "j= 3\n",
      "j= 4\n",
      "j= 5\n",
      "j= 6\n",
      "j= 7\n",
      "j= 8\n",
      "j= 9\n",
      "[4.38232102e+11 4.38232649e+11 4.38233553e+11 4.38234804e+11\n",
      " 4.38236388e+11 4.38238287e+11 4.38240481e+11 4.38242947e+11\n",
      " 4.38245659e+11 4.38248592e+11]\n",
      "i= 8\n",
      "j= 0\n",
      "j= 1\n",
      "j= 2\n",
      "j= 3\n",
      "j= 4\n",
      "j= 5\n",
      "j= 6\n",
      "j= 7\n",
      "j= 8\n",
      "j= 9\n",
      "[4.18186340e+11 4.18187070e+11 4.18188277e+11 4.18189946e+11\n",
      " 4.18192058e+11 4.18194587e+11 4.18197506e+11 4.18200783e+11\n",
      " 4.18204383e+11 4.18208271e+11]\n",
      "i= 9\n",
      "j= 0\n",
      "j= 1\n",
      "j= 2\n",
      "j= 3\n",
      "j= 4\n",
      "j= 5\n",
      "j= 6\n",
      "j= 7\n",
      "j= 8\n",
      "j= 9\n",
      "[3.98133005e+11 3.98133961e+11 3.98135542e+11 3.98137727e+11\n",
      " 3.98140488e+11 3.98143794e+11 3.98147604e+11 3.98151875e+11\n",
      " 3.98156562e+11 3.98161615e+11]\n",
      "i= 10\n",
      "j= 0\n",
      "j= 1\n",
      "j= 2\n",
      "j= 3\n",
      "j= 4\n",
      "j= 5\n",
      "j= 6\n",
      "j= 7\n",
      "j= 8\n",
      "j= 9\n",
      "[3.78071314e+11 3.78072550e+11 3.78074591e+11 3.78077410e+11\n",
      " 3.78080971e+11 3.78085228e+11 3.78090128e+11 3.78095613e+11\n",
      " 3.78101623e+11 3.78108091e+11]\n",
      "i= 11\n",
      "j= 0\n",
      "j= 1\n",
      "j= 2\n",
      "j= 3\n",
      "j= 4\n",
      "j= 5\n",
      "j= 6\n",
      "j= 7\n",
      "j= 8\n",
      "j= 9\n",
      "[3.58000361e+11 3.58001941e+11 3.58004549e+11 3.58008148e+11\n",
      " 3.58012689e+11 3.58018110e+11 3.58024342e+11 3.58031306e+11\n",
      " 3.58038921e+11 3.58047102e+11]\n",
      "i= 12\n",
      "j= 0\n",
      "j= 1\n",
      "j= 2\n",
      "j= 3\n",
      "j= 4\n",
      "j= 5\n",
      "j= 6\n",
      "j= 7\n",
      "j= 8\n",
      "j= 9\n",
      "[3.37919079e+11 3.37921084e+11 3.37924390e+11 3.37928949e+11\n",
      " 3.37934694e+11 3.37941542e+11 3.37949400e+11 3.37958165e+11\n",
      " 3.37967728e+11 3.37977978e+11]\n",
      "i= 13\n",
      "j= 0\n",
      "j= 1\n",
      "j= 2\n",
      "j= 3\n",
      "j= 4\n",
      "j= 5\n",
      "j= 6\n",
      "j= 7\n",
      "j= 8\n",
      "j= 9\n",
      "[3.17826210e+11 3.17828740e+11 3.17832911e+11 3.17838654e+11\n",
      " 3.17845881e+11 3.17854481e+11 3.17864328e+11 3.17875288e+11\n",
      " 3.17887216e+11 3.17899966e+11]\n",
      "i= 14\n",
      "j= 0\n",
      "j= 1\n",
      "j= 2\n",
      "j= 3\n",
      "j= 4\n",
      "j= 5\n",
      "j= 6\n",
      "j= 7\n",
      "j= 8\n",
      "j= 9\n",
      "[2.97720246e+11 2.97723431e+11 2.97728676e+11 2.97735890e+11\n",
      " 2.97744950e+11 2.97755709e+11 2.97768000e+11 2.97781641e+11\n",
      " 2.97796445e+11 2.97812222e+11]\n",
      "i= 15\n",
      "j= 0\n",
      "j= 1\n",
      "j= 2\n",
      "j= 3\n",
      "j= 4\n",
      "j= 5\n",
      "j= 6\n",
      "j= 7\n",
      "j= 8\n",
      "j= 9\n",
      "[2.77599366e+11 2.77603373e+11 2.77609964e+11 2.77619015e+11\n",
      " 2.77630359e+11 2.77643795e+11 2.77659099e+11 2.77676032e+11\n",
      " 2.77694345e+11 2.77713792e+11]\n",
      "i= 16\n",
      "j= 0\n",
      "j= 1\n",
      "j= 2\n",
      "j= 3\n",
      "j= 4\n",
      "j= 5\n",
      "j= 6\n",
      "j= 7\n",
      "j= 8\n",
      "j= 9\n",
      "[2.57461338e+11 2.57466388e+11 2.57474684e+11 2.57486051e+11\n",
      " 2.57500262e+11 2.57517042e+11 2.57536090e+11 2.57557083e+11\n",
      " 2.57579696e+11 2.57603609e+11]\n",
      "i= 17\n",
      "j= 0\n",
      "j= 1\n",
      "j= 2\n",
      "j= 3\n",
      "j= 4\n",
      "j= 5\n",
      "j= 6\n",
      "j= 7\n",
      "j= 8\n",
      "j= 9\n",
      "[2.37303391e+11 2.37309781e+11 2.37320260e+11 2.37334583e+11\n",
      " 2.37352432e+11 2.37373429e+11 2.37397161e+11 2.37423197e+11\n",
      " 2.37451108e+11 2.37480476e+11]\n",
      "i= 18\n",
      "j= 0\n",
      "j= 1\n",
      "j= 2\n",
      "j= 3\n",
      "j= 4\n",
      "j= 5\n",
      "j= 6\n",
      "j= 7\n",
      "j= 8\n",
      "j= 9\n",
      "[2.17122015e+11 2.17130155e+11 2.17143476e+11 2.17161626e+11\n",
      " 2.17184151e+11 2.17210524e+11 2.17240176e+11 2.17272525e+11\n",
      " 2.17307001e+11 2.17343063e+11]\n",
      "i= 19\n",
      "j= 0\n",
      "j= 1\n",
      "j= 2\n",
      "j= 3\n",
      "j= 4\n",
      "j= 5\n",
      "j= 6\n",
      "j= 7\n",
      "j= 8\n",
      "j= 9\n",
      "[1.96912685e+11 1.96923159e+11 1.96940248e+11 1.96963436e+11\n",
      " 1.96992065e+11 1.97025386e+11 1.97062603e+11 1.97102925e+11\n",
      " 1.97145593e+11 1.97189909e+11]\n"
     ]
    }
   ],
   "source": [
    "t = 0\n",
    "P=10\n",
    "vy = np.zeros(P)\n",
    "vx = np.ones(P)*(-vi)\n",
    "y=np.linspace(0,1,int(P)+1)[1:]*(ymax)\n",
    "#x = np.zeros(P)\n",
    "x = np.ones(P)*xi\n",
    "\n",
    "Time = np.zeros((P,N))     \n",
    "Xpos = np.zeros((P,N))\n",
    "Ypos = np.zeros((P,N))\n",
    "Yvel = np.zeros((P,N))\n",
    "Xvel = np.zeros((P,N))\n",
    "print('          x', '               y')\n",
    "for i in range(N): #Avoid square arrays!!!\n",
    "    print(\"i=\", i)\n",
    "    for j in range(P):\n",
    "        print(\"j=\",j)\n",
    "        # here are the calculations\n",
    "        t = t + dt  #incrementing time value by dt\n",
    "        A_x = ((-const.G.value*Big_M/((x[j]**2+y[j]**2)**(3/2)))*x[j])\n",
    "        A_y = ((-const.G.value*Big_M/((x[j]**2+y[j]**2)**(3/2)))*y[j])\n",
    "        #print(A_x,A_y)\n",
    "        #continue\n",
    "        vx[j] = vx[j] + A_x * dt \n",
    "        vy[j] = vy[j] + A_y * dt\n",
    "        #print((vx),(vy))\n",
    "        #continue\n",
    "        x[j] = x[j] + vx[j] * dt\n",
    "        y[j] = y[j] + vy[j] * dt \n",
    "        #print(x)\n",
    "        #continue\n",
    "        Time[j,i] = t\n",
    "        Xpos[j,i] = x[j]\n",
    "        Ypos[j,i] = y[j]\n",
    "        Xvel[j,i] = vx[j]\n",
    "        Yvel[j,i] = vy[j]\n",
    "        #print((Xvel))\n",
    "        #continue\n",
    "    print(Xpos[:,i])\n",
    "    #break\n",
    "\n",
    "#It looks like there is an X-position for the 10 particles, the \n",
    "#array is the x location of each particle. There are also 200 "
   ]
  },
  {
   "cell_type": "code",
   "execution_count": 109,
   "metadata": {
    "scrolled": true
   },
   "outputs": [
    {
     "data": {
      "text/plain": [
       "20"
      ]
     },
     "execution_count": 109,
     "metadata": {},
     "output_type": "execute_result"
    }
   ],
   "source": [
    "len(Xpos[0])"
   ]
  },
  {
   "cell_type": "code",
   "execution_count": 152,
   "metadata": {
    "collapsed": true
   },
   "outputs": [
    {
     "data": {
      "text/plain": [
       "array([[-1.17573083e+12, -1.17573083e+12, -1.17573083e+12,\n",
       "        -1.17573083e+12, -1.17573083e+12, -1.17573083e+12,\n",
       "        -1.17573083e+12, -1.17573083e+12, -1.17573083e+12,\n",
       "        -1.17573083e+12, -1.17573083e+12, -1.17573083e+12,\n",
       "        -1.17573083e+12, -1.17573083e+12, -1.17573083e+12,\n",
       "        -1.17573083e+12, -1.17573083e+12, -1.17573083e+12,\n",
       "        -1.17573083e+12, -1.17573083e+12],\n",
       "       [-1.16814870e+12, -1.16814870e+12, -1.16814870e+12,\n",
       "        -1.16814870e+12, -1.16814870e+12, -1.16814870e+12,\n",
       "        -1.16814870e+12, -1.16814870e+12, -1.16814870e+12,\n",
       "        -1.16814870e+12, -1.16814870e+12, -1.16814870e+12,\n",
       "        -1.16814870e+12, -1.16814870e+12, -1.16814870e+12,\n",
       "        -1.16814870e+12, -1.16814870e+12, -1.16814870e+12,\n",
       "        -1.16814870e+12, -1.16814870e+12],\n",
       "       [-1.16056649e+12, -1.16056649e+12, -1.16056649e+12,\n",
       "        -1.16056649e+12, -1.16056649e+12, -1.16056649e+12,\n",
       "        -1.16056649e+12, -1.16056649e+12, -1.16056649e+12,\n",
       "        -1.16056649e+12, -1.16056649e+12, -1.16056649e+12,\n",
       "        -1.16056649e+12, -1.16056649e+12, -1.16056649e+12,\n",
       "        -1.16056649e+12, -1.16056649e+12, -1.16056649e+12,\n",
       "        -1.16056649e+12, -1.16056649e+12],\n",
       "       [-1.15298421e+12, -1.15298421e+12, -1.15298421e+12,\n",
       "        -1.15298421e+12, -1.15298421e+12, -1.15298421e+12,\n",
       "        -1.15298421e+12, -1.15298421e+12, -1.15298421e+12,\n",
       "        -1.15298421e+12, -1.15298421e+12, -1.15298421e+12,\n",
       "        -1.15298421e+12, -1.15298421e+12, -1.15298421e+12,\n",
       "        -1.15298421e+12, -1.15298421e+12, -1.15298421e+12,\n",
       "        -1.15298421e+12, -1.15298421e+12],\n",
       "       [-1.14540186e+12, -1.14540186e+12, -1.14540186e+12,\n",
       "        -1.14540186e+12, -1.14540186e+12, -1.14540186e+12,\n",
       "        -1.14540186e+12, -1.14540186e+12, -1.14540186e+12,\n",
       "        -1.14540186e+12, -1.14540186e+12, -1.14540186e+12,\n",
       "        -1.14540186e+12, -1.14540186e+12, -1.14540186e+12,\n",
       "        -1.14540186e+12, -1.14540186e+12, -1.14540186e+12,\n",
       "        -1.14540186e+12, -1.14540186e+12],\n",
       "       [-1.13781943e+12, -1.13781943e+12, -1.13781943e+12,\n",
       "        -1.13781943e+12, -1.13781943e+12, -1.13781943e+12,\n",
       "        -1.13781943e+12, -1.13781943e+12, -1.13781943e+12,\n",
       "        -1.13781943e+12, -1.13781943e+12, -1.13781943e+12,\n",
       "        -1.13781943e+12, -1.13781943e+12, -1.13781943e+12,\n",
       "        -1.13781943e+12, -1.13781943e+12, -1.13781943e+12,\n",
       "        -1.13781943e+12, -1.13781943e+12],\n",
       "       [-1.13023693e+12, -1.13023693e+12, -1.13023693e+12,\n",
       "        -1.13023693e+12, -1.13023693e+12, -1.13023693e+12,\n",
       "        -1.13023693e+12, -1.13023693e+12, -1.13023693e+12,\n",
       "        -1.13023693e+12, -1.13023693e+12, -1.13023693e+12,\n",
       "        -1.13023693e+12, -1.13023693e+12, -1.13023693e+12,\n",
       "        -1.13023693e+12, -1.13023693e+12, -1.13023693e+12,\n",
       "        -1.13023693e+12, -1.13023693e+12],\n",
       "       [-1.12265436e+12, -1.12265436e+12, -1.12265436e+12,\n",
       "        -1.12265436e+12, -1.12265436e+12, -1.12265436e+12,\n",
       "        -1.12265436e+12, -1.12265436e+12, -1.12265436e+12,\n",
       "        -1.12265436e+12, -1.12265436e+12, -1.12265436e+12,\n",
       "        -1.12265436e+12, -1.12265436e+12, -1.12265436e+12,\n",
       "        -1.12265436e+12, -1.12265436e+12, -1.12265436e+12,\n",
       "        -1.12265436e+12, -1.12265436e+12],\n",
       "       [-1.11507172e+12, -1.11507172e+12, -1.11507172e+12,\n",
       "        -1.11507172e+12, -1.11507172e+12, -1.11507172e+12,\n",
       "        -1.11507172e+12, -1.11507172e+12, -1.11507172e+12,\n",
       "        -1.11507172e+12, -1.11507172e+12, -1.11507172e+12,\n",
       "        -1.11507172e+12, -1.11507172e+12, -1.11507172e+12,\n",
       "        -1.11507172e+12, -1.11507172e+12, -1.11507172e+12,\n",
       "        -1.11507172e+12, -1.11507172e+12],\n",
       "       [-1.10748902e+12, -1.10748902e+12, -1.10748902e+12,\n",
       "        -1.10748902e+12, -1.10748902e+12, -1.10748902e+12,\n",
       "        -1.10748902e+12, -1.10748902e+12, -1.10748902e+12,\n",
       "        -1.10748902e+12, -1.10748902e+12, -1.10748902e+12,\n",
       "        -1.10748902e+12, -1.10748902e+12, -1.10748902e+12,\n",
       "        -1.10748902e+12, -1.10748902e+12, -1.10748902e+12,\n",
       "        -1.10748902e+12, -1.10748902e+12]])"
      ]
     },
     "execution_count": 152,
     "metadata": {},
     "output_type": "execute_result"
    }
   ],
   "source": [
    "(Ypos[:])"
   ]
  },
  {
   "cell_type": "code",
   "execution_count": 95,
   "metadata": {},
   "outputs": [
    {
     "data": {
      "text/plain": [
       "array([2.57461338e+11, 2.37303391e+11, 2.17122015e+11, 1.96912685e+11])"
      ]
     },
     "execution_count": 95,
     "metadata": {},
     "output_type": "execute_result"
    }
   ],
   "source": [
    "Xpos[0,-4:]\n",
    "#Look up array operations (slicing operations)."
   ]
  },
  {
   "cell_type": "code",
   "execution_count": 106,
   "metadata": {},
   "outputs": [
    {
     "data": {
      "image/png": "[encoded data removed]",
      "text/plain": [
       "<Figure size 720x648 with 1 Axes>"
      ]
     },
     "metadata": {
      "needs_background": "light"
     },
     "output_type": "display_data"
    }
   ],
   "source": [
    "fig, ax = plt.subplots(figsize=[10,9])\n",
    "\n",
    "for i in range(N):\n",
    "    for j in range(P):\n",
    "        ax.scatter(Xpos[j,i], Ypos[j,i], marker='o', alpha=0.5);\n",
    "        ax.set_ylim(1.48e11,1.497e11)\n",
    "        ax.set_xlim(1.9e11,6.1e11)\n",
    "\n",
    "#axes ratios can be misleading sometimes. \n",
    "#keep limits in mind \n",
    "\n",
    "#Goals : Work on plotting, parameters, \n",
    "#adapt code to only plot every 10th step. (Good for testing)\n",
    "#writing code in functions (i.e. acceleration, velocity - low level func.)\n",
    "\n"
   ]
  },
  {
   "cell_type": "code",
   "execution_count": null,
   "metadata": {},
   "outputs": [],
   "source": []
  }
 ],
 "metadata": {
  "kernelspec": {
   "display_name": "Python 3",
   "language": "python",
   "name": "python3"
  },
  "language_info": {
   "codemirror_mode": {
    "name": "ipython",
    "version": 3
   },
   "file_extension": ".py",
   "mimetype": "text/x-python",
   "name": "python",
   "nbconvert_exporter": "python",
   "pygments_lexer": "ipython3",
   "version": "3.7.7"
  }
 },
 "nbformat": 4,
 "nbformat_minor": 4
}
